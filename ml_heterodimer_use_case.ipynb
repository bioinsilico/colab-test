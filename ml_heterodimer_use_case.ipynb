{
  "nbformat": 4,
  "nbformat_minor": 0,
  "metadata": {
    "colab": {
      "provenance": [],
      "include_colab_link": true
    },
    "kernelspec": {
      "name": "python3",
      "display_name": "Python 3"
    },
    "language_info": {
      "name": "python"
    }
  },
  "cells": [
    {
      "cell_type": "markdown",
      "metadata": {
        "id": "view-in-github",
        "colab_type": "text"
      },
      "source": [
        "<a href=\"https://colab.research.google.com/github/bioinsilico/colab-test/blob/main/ml_heterodimer_use_case.ipynb\" target=\"_parent\"><img src=\"https://colab.research.google.com/assets/colab-badge.svg\" alt=\"Open In Colab\"/></a>"
      ]
    },
    {
      "cell_type": "markdown",
      "source": [
        "RCSB PDB API URLs"
      ],
      "metadata": {
        "id": "X1j7XjzT7Kss"
      }
    },
    {
      "cell_type": "code",
      "source": [
        "search_api_url = \"https://search.rcsb.org/rcsbsearch/v2/query\"\n",
        "data_api_url = \"https://data.rcsb.org/graphql\""
      ],
      "metadata": {
        "id": "etZgKcD_7QCZ"
      },
      "execution_count": null,
      "outputs": []
    },
    {
      "cell_type": "markdown",
      "source": [
        "Next serach request will collect all heterodimeric assemblies from the structural archive\n",
        "\n",
        "**Important: CSMs will be excluded**\n",
        "\n",
        "```\n",
        "  \"results_content_type\": [\n",
        "      \"experimental\", \"computational\"\n",
        "  ]\n",
        "```"
      ],
      "metadata": {
        "id": "iODDq1gD6Q-0"
      }
    },
    {
      "cell_type": "code",
      "execution_count": null,
      "metadata": {
        "id": "WIIV6HMD5dIq"
      },
      "outputs": [],
      "source": [
        "heterodimer_search = {\n",
        "  \"query\": {\n",
        "    \"type\": \"group\",\n",
        "    \"logical_operator\": \"and\",\n",
        "    \"nodes\": [\n",
        "      {\n",
        "        \"type\": \"terminal\",\n",
        "        \"service\": \"text\",\n",
        "        \"parameters\": {\n",
        "          \"attribute\": \"rcsb_entry_info.polymer_composition\",\n",
        "          \"operator\": \"exact_match\",\n",
        "          \"negation\": False,\n",
        "          \"value\": \"heteromeric protein\"\n",
        "        }\n",
        "      },\n",
        "      {\n",
        "        \"type\": \"terminal\",\n",
        "        \"service\": \"text\",\n",
        "        \"parameters\": {\n",
        "          \"attribute\": \"rcsb_assembly_info.polymer_entity_instance_count\",\n",
        "          \"operator\": \"equals\",\n",
        "          \"negation\": False,\n",
        "          \"value\": 2\n",
        "        }\n",
        "      },\n",
        "      {\n",
        "        \"type\": \"terminal\",\n",
        "        \"service\": \"text\",\n",
        "        \"parameters\": {\n",
        "          \"attribute\": \"entity_poly.rcsb_sample_sequence_length\",\n",
        "          \"operator\": \"greater\",\n",
        "          \"negation\": False,\n",
        "          \"value\": 30\n",
        "        }\n",
        "      }\n",
        "    ],\n",
        "    \"label\": \"text\"\n",
        "  },\n",
        "  \"return_type\": \"assembly\",\n",
        "  \"request_options\": {\n",
        "    \"results_content_type\": [\n",
        "      \"experimental\"\n",
        "    ],\n",
        "    \"return_all_hits\": True\n",
        "  }\n",
        "}"
      ]
    },
    {
      "cell_type": "markdown",
      "source": [
        "Collecting and parsing search results"
      ],
      "metadata": {
        "id": "k6mmvRWz6QHV"
      }
    },
    {
      "cell_type": "code",
      "source": [
        "import requests\n",
        "import json\n",
        "\n",
        "search_response = requests.post(search_api_url, json = heterodimer_search)\n",
        "\n",
        "search_response_json = json.loads(search_response.text)\n",
        "\n",
        "print(\"Number of heterodimeric assemblies: %s\" % search_response_json['total_count'])\n",
        "\n",
        "assembly_id_list = [item['identifier'] for item in search_response_json['result_set']]\n",
        "\n",
        "print(\"Assemly Ids: %s, ...\" % \", \".join(assembly_id_list[0:10]))"
      ],
      "metadata": {
        "colab": {
          "base_uri": "https://localhost:8080/"
        },
        "id": "pERUqe8q635L",
        "outputId": "7f4170c9-e16a-42d7-a657-baa3b34c67e8"
      },
      "execution_count": null,
      "outputs": [
        {
          "output_type": "stream",
          "name": "stdout",
          "text": [
            "Number of heterodimeric assemblies: 24802\n",
            "Assemly Ids: 1A08-1, 1A08-2, 1A09-2, 1A09-3, 1A0N-1, 1A0O-1, 1A0O-2, 1A0O-3, 1A0O-4, 1A0Q-1, ...\n"
          ]
        }
      ]
    },
    {
      "cell_type": "markdown",
      "source": [
        "Test"
      ],
      "metadata": {
        "id": "JOCwzjjd7ITM"
      }
    }
  ]
}